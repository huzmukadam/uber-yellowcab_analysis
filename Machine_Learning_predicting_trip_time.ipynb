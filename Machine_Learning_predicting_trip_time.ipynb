{
 "cells": [
  {
   "cell_type": "code",
   "execution_count": 1,
   "metadata": {},
   "outputs": [],
   "source": [
    "import pickle\n",
    "import numpy as np\n",
    "import pandas as pd\n",
    "import scipy.stats as stats\n",
    "import matplotlib.pyplot as plt\n",
    "import sklearn\n",
    "plt.style.use('ggplot')  # sets up pretty plots\n",
    "%matplotlib inline\n",
    "pd.set_option('display.max_rows', 2000)\n",
    "pd.set_option('display.max_columns', 500)"
   ]
  },
  {
   "cell_type": "code",
   "execution_count": 2,
   "metadata": {},
   "outputs": [],
   "source": [
    "df = pd.read_pickle('yellowcab_clean_data.pkl')"
   ]
  },
  {
   "cell_type": "code",
   "execution_count": 3,
   "metadata": {},
   "outputs": [
    {
     "data": {
      "text/html": [
       "<div>\n",
       "<style scoped>\n",
       "    .dataframe tbody tr th:only-of-type {\n",
       "        vertical-align: middle;\n",
       "    }\n",
       "\n",
       "    .dataframe tbody tr th {\n",
       "        vertical-align: top;\n",
       "    }\n",
       "\n",
       "    .dataframe thead th {\n",
       "        text-align: right;\n",
       "    }\n",
       "</style>\n",
       "<table border=\"1\" class=\"dataframe\">\n",
       "  <thead>\n",
       "    <tr style=\"text-align: right;\">\n",
       "      <th></th>\n",
       "      <th>vendor_id</th>\n",
       "      <th>pickup_datetime</th>\n",
       "      <th>dropoff_datetime</th>\n",
       "      <th>passenger_count</th>\n",
       "      <th>trip_distance</th>\n",
       "      <th>pickup_longitude</th>\n",
       "      <th>pickup_latitude</th>\n",
       "      <th>rate_code</th>\n",
       "      <th>dropoff_longitude</th>\n",
       "      <th>dropoff_latitude</th>\n",
       "      <th>payment_type</th>\n",
       "      <th>fare_amount</th>\n",
       "      <th>surcharge</th>\n",
       "      <th>mta_tax</th>\n",
       "      <th>tip_amount</th>\n",
       "      <th>tolls_amount</th>\n",
       "      <th>total_amount</th>\n",
       "      <th>total_time</th>\n",
       "      <th>trip_time</th>\n",
       "      <th>pickup_day</th>\n",
       "      <th>pickup_hour</th>\n",
       "      <th>pickup_minute</th>\n",
       "    </tr>\n",
       "  </thead>\n",
       "  <tbody>\n",
       "    <tr>\n",
       "      <th>0</th>\n",
       "      <td>CMT</td>\n",
       "      <td>2014-04-08 08:59:39</td>\n",
       "      <td>2014-04-08 09:28:57</td>\n",
       "      <td>1</td>\n",
       "      <td>2.5</td>\n",
       "      <td>-73.958848</td>\n",
       "      <td>40.763585</td>\n",
       "      <td>1</td>\n",
       "      <td>-73.986284</td>\n",
       "      <td>40.752034</td>\n",
       "      <td>CRD</td>\n",
       "      <td>18.0</td>\n",
       "      <td>0.0</td>\n",
       "      <td>0.5</td>\n",
       "      <td>3.7</td>\n",
       "      <td>0.0</td>\n",
       "      <td>22.2</td>\n",
       "      <td>00:29:18</td>\n",
       "      <td>29</td>\n",
       "      <td>1</td>\n",
       "      <td>8</td>\n",
       "      <td>59</td>\n",
       "    </tr>\n",
       "    <tr>\n",
       "      <th>1</th>\n",
       "      <td>CMT</td>\n",
       "      <td>2014-04-08 14:59:22</td>\n",
       "      <td>2014-04-08 15:04:52</td>\n",
       "      <td>1</td>\n",
       "      <td>0.9</td>\n",
       "      <td>0.000000</td>\n",
       "      <td>0.000000</td>\n",
       "      <td>1</td>\n",
       "      <td>0.000000</td>\n",
       "      <td>0.000000</td>\n",
       "      <td>CRD</td>\n",
       "      <td>6.0</td>\n",
       "      <td>0.0</td>\n",
       "      <td>0.5</td>\n",
       "      <td>1.3</td>\n",
       "      <td>0.0</td>\n",
       "      <td>7.8</td>\n",
       "      <td>00:05:30</td>\n",
       "      <td>6</td>\n",
       "      <td>1</td>\n",
       "      <td>14</td>\n",
       "      <td>59</td>\n",
       "    </tr>\n",
       "    <tr>\n",
       "      <th>2</th>\n",
       "      <td>CMT</td>\n",
       "      <td>2014-04-08 08:45:28</td>\n",
       "      <td>2014-04-08 08:50:41</td>\n",
       "      <td>2</td>\n",
       "      <td>0.6</td>\n",
       "      <td>-73.992233</td>\n",
       "      <td>40.729136</td>\n",
       "      <td>1</td>\n",
       "      <td>-73.991387</td>\n",
       "      <td>40.735186</td>\n",
       "      <td>CRD</td>\n",
       "      <td>5.5</td>\n",
       "      <td>0.0</td>\n",
       "      <td>0.5</td>\n",
       "      <td>1.2</td>\n",
       "      <td>0.0</td>\n",
       "      <td>7.2</td>\n",
       "      <td>00:05:13</td>\n",
       "      <td>5</td>\n",
       "      <td>1</td>\n",
       "      <td>8</td>\n",
       "      <td>45</td>\n",
       "    </tr>\n",
       "    <tr>\n",
       "      <th>3</th>\n",
       "      <td>CMT</td>\n",
       "      <td>2014-04-08 08:00:20</td>\n",
       "      <td>2014-04-08 08:11:31</td>\n",
       "      <td>2</td>\n",
       "      <td>0.5</td>\n",
       "      <td>-73.973726</td>\n",
       "      <td>40.750095</td>\n",
       "      <td>1</td>\n",
       "      <td>-73.976889</td>\n",
       "      <td>40.755623</td>\n",
       "      <td>CRD</td>\n",
       "      <td>8.0</td>\n",
       "      <td>0.0</td>\n",
       "      <td>0.5</td>\n",
       "      <td>1.7</td>\n",
       "      <td>0.0</td>\n",
       "      <td>10.2</td>\n",
       "      <td>00:11:11</td>\n",
       "      <td>11</td>\n",
       "      <td>1</td>\n",
       "      <td>8</td>\n",
       "      <td>0</td>\n",
       "    </tr>\n",
       "    <tr>\n",
       "      <th>4</th>\n",
       "      <td>CMT</td>\n",
       "      <td>2014-04-08 08:38:36</td>\n",
       "      <td>2014-04-08 08:44:37</td>\n",
       "      <td>1</td>\n",
       "      <td>0.4</td>\n",
       "      <td>-73.973502</td>\n",
       "      <td>40.755479</td>\n",
       "      <td>1</td>\n",
       "      <td>-73.979198</td>\n",
       "      <td>40.758619</td>\n",
       "      <td>CRD</td>\n",
       "      <td>5.5</td>\n",
       "      <td>0.0</td>\n",
       "      <td>0.5</td>\n",
       "      <td>1.2</td>\n",
       "      <td>0.0</td>\n",
       "      <td>7.2</td>\n",
       "      <td>00:06:01</td>\n",
       "      <td>6</td>\n",
       "      <td>1</td>\n",
       "      <td>8</td>\n",
       "      <td>38</td>\n",
       "    </tr>\n",
       "  </tbody>\n",
       "</table>\n",
       "</div>"
      ],
      "text/plain": [
       "  vendor_id     pickup_datetime    dropoff_datetime  passenger_count  \\\n",
       "0       CMT 2014-04-08 08:59:39 2014-04-08 09:28:57                1   \n",
       "1       CMT 2014-04-08 14:59:22 2014-04-08 15:04:52                1   \n",
       "2       CMT 2014-04-08 08:45:28 2014-04-08 08:50:41                2   \n",
       "3       CMT 2014-04-08 08:00:20 2014-04-08 08:11:31                2   \n",
       "4       CMT 2014-04-08 08:38:36 2014-04-08 08:44:37                1   \n",
       "\n",
       "   trip_distance  pickup_longitude  pickup_latitude  rate_code  \\\n",
       "0            2.5        -73.958848        40.763585          1   \n",
       "1            0.9          0.000000         0.000000          1   \n",
       "2            0.6        -73.992233        40.729136          1   \n",
       "3            0.5        -73.973726        40.750095          1   \n",
       "4            0.4        -73.973502        40.755479          1   \n",
       "\n",
       "   dropoff_longitude  dropoff_latitude payment_type  fare_amount  surcharge  \\\n",
       "0         -73.986284         40.752034          CRD         18.0        0.0   \n",
       "1           0.000000          0.000000          CRD          6.0        0.0   \n",
       "2         -73.991387         40.735186          CRD          5.5        0.0   \n",
       "3         -73.976889         40.755623          CRD          8.0        0.0   \n",
       "4         -73.979198         40.758619          CRD          5.5        0.0   \n",
       "\n",
       "   mta_tax  tip_amount  tolls_amount  total_amount total_time  trip_time  \\\n",
       "0      0.5         3.7           0.0          22.2   00:29:18         29   \n",
       "1      0.5         1.3           0.0           7.8   00:05:30          6   \n",
       "2      0.5         1.2           0.0           7.2   00:05:13          5   \n",
       "3      0.5         1.7           0.0          10.2   00:11:11         11   \n",
       "4      0.5         1.2           0.0           7.2   00:06:01          6   \n",
       "\n",
       "   pickup_day  pickup_hour  pickup_minute  \n",
       "0           1            8             59  \n",
       "1           1           14             59  \n",
       "2           1            8             45  \n",
       "3           1            8              0  \n",
       "4           1            8             38  "
      ]
     },
     "execution_count": 3,
     "metadata": {},
     "output_type": "execute_result"
    }
   ],
   "source": [
    "df.head()"
   ]
  },
  {
   "cell_type": "code",
   "execution_count": 4,
   "metadata": {},
   "outputs": [],
   "source": [
    "df_small = df[0:100000]"
   ]
  },
  {
   "cell_type": "code",
   "execution_count": 5,
   "metadata": {},
   "outputs": [
    {
     "name": "stdout",
     "output_type": "stream",
     "text": [
      "<class 'pandas.core.frame.DataFrame'>\n",
      "RangeIndex: 100000 entries, 0 to 99999\n",
      "Data columns (total 22 columns):\n",
      "vendor_id            100000 non-null object\n",
      "pickup_datetime      100000 non-null datetime64[ns]\n",
      "dropoff_datetime     100000 non-null datetime64[ns]\n",
      "passenger_count      100000 non-null int64\n",
      "trip_distance        100000 non-null float64\n",
      "pickup_longitude     100000 non-null float64\n",
      "pickup_latitude      100000 non-null float64\n",
      "rate_code            100000 non-null int64\n",
      "dropoff_longitude    100000 non-null float64\n",
      "dropoff_latitude     100000 non-null float64\n",
      "payment_type         100000 non-null object\n",
      "fare_amount          100000 non-null float64\n",
      "surcharge            100000 non-null float64\n",
      "mta_tax              100000 non-null float64\n",
      "tip_amount           100000 non-null float64\n",
      "tolls_amount         100000 non-null float64\n",
      "total_amount         100000 non-null float64\n",
      "total_time           100000 non-null timedelta64[ns]\n",
      "trip_time            100000 non-null int64\n",
      "pickup_day           100000 non-null int64\n",
      "pickup_hour          100000 non-null int64\n",
      "pickup_minute        100000 non-null int64\n",
      "dtypes: datetime64[ns](2), float64(11), int64(6), object(2), timedelta64[ns](1)\n",
      "memory usage: 16.8+ MB\n"
     ]
    }
   ],
   "source": [
    "df_small.info()"
   ]
  },
  {
   "cell_type": "markdown",
   "metadata": {},
   "source": [
    "pickup_list = np.array(df1_small.pickup_datetime)"
   ]
  },
  {
   "cell_type": "markdown",
   "metadata": {},
   "source": [
    "from sklearn import preprocessing\n",
    "le = preprocessing.LabelEncoder()"
   ]
  },
  {
   "cell_type": "markdown",
   "metadata": {},
   "source": [
    "le.fit(pickup_list)\n",
    "encoded_time = le.transform(pickup_list)"
   ]
  },
  {
   "cell_type": "markdown",
   "metadata": {},
   "source": [
    "df1_small['encoded_pickup_time'] = encoded_time"
   ]
  },
  {
   "cell_type": "code",
   "execution_count": 6,
   "metadata": {},
   "outputs": [
    {
     "name": "stdout",
     "output_type": "stream",
     "text": [
      "<class 'pandas.core.frame.DataFrame'>\n",
      "RangeIndex: 100000 entries, 0 to 99999\n",
      "Data columns (total 8 columns):\n",
      "pickup_day           100000 non-null int64\n",
      "pickup_hour          100000 non-null int64\n",
      "pickup_minute        100000 non-null int64\n",
      "trip_distance        100000 non-null float64\n",
      "pickup_longitude     100000 non-null float64\n",
      "pickup_latitude      100000 non-null float64\n",
      "dropoff_latitude     100000 non-null float64\n",
      "dropoff_longitude    100000 non-null float64\n",
      "dtypes: float64(5), int64(3)\n",
      "memory usage: 6.1 MB\n"
     ]
    }
   ],
   "source": [
    "X = pd.DataFrame(data=df_small, columns = ['pickup_day', 'pickup_hour', 'pickup_minute', 'trip_distance', 'pickup_longitude', 'pickup_latitude', 'dropoff_latitude','dropoff_longitude'])\n",
    "y = df_small['trip_time']\n",
    "X.info()"
   ]
  },
  {
   "cell_type": "code",
   "execution_count": 7,
   "metadata": {},
   "outputs": [
    {
     "data": {
      "text/html": [
       "<div>\n",
       "<style scoped>\n",
       "    .dataframe tbody tr th:only-of-type {\n",
       "        vertical-align: middle;\n",
       "    }\n",
       "\n",
       "    .dataframe tbody tr th {\n",
       "        vertical-align: top;\n",
       "    }\n",
       "\n",
       "    .dataframe thead th {\n",
       "        text-align: right;\n",
       "    }\n",
       "</style>\n",
       "<table border=\"1\" class=\"dataframe\">\n",
       "  <thead>\n",
       "    <tr style=\"text-align: right;\">\n",
       "      <th></th>\n",
       "      <th>pickup_day</th>\n",
       "      <th>pickup_hour</th>\n",
       "      <th>pickup_minute</th>\n",
       "      <th>trip_distance</th>\n",
       "      <th>pickup_longitude</th>\n",
       "      <th>pickup_latitude</th>\n",
       "      <th>dropoff_latitude</th>\n",
       "      <th>dropoff_longitude</th>\n",
       "    </tr>\n",
       "  </thead>\n",
       "  <tbody>\n",
       "    <tr>\n",
       "      <th>0</th>\n",
       "      <td>1</td>\n",
       "      <td>8</td>\n",
       "      <td>59</td>\n",
       "      <td>2.5</td>\n",
       "      <td>-73.958848</td>\n",
       "      <td>40.763585</td>\n",
       "      <td>40.752034</td>\n",
       "      <td>-73.986284</td>\n",
       "    </tr>\n",
       "    <tr>\n",
       "      <th>1</th>\n",
       "      <td>1</td>\n",
       "      <td>14</td>\n",
       "      <td>59</td>\n",
       "      <td>0.9</td>\n",
       "      <td>0.000000</td>\n",
       "      <td>0.000000</td>\n",
       "      <td>0.000000</td>\n",
       "      <td>0.000000</td>\n",
       "    </tr>\n",
       "    <tr>\n",
       "      <th>2</th>\n",
       "      <td>1</td>\n",
       "      <td>8</td>\n",
       "      <td>45</td>\n",
       "      <td>0.6</td>\n",
       "      <td>-73.992233</td>\n",
       "      <td>40.729136</td>\n",
       "      <td>40.735186</td>\n",
       "      <td>-73.991387</td>\n",
       "    </tr>\n",
       "    <tr>\n",
       "      <th>3</th>\n",
       "      <td>1</td>\n",
       "      <td>8</td>\n",
       "      <td>0</td>\n",
       "      <td>0.5</td>\n",
       "      <td>-73.973726</td>\n",
       "      <td>40.750095</td>\n",
       "      <td>40.755623</td>\n",
       "      <td>-73.976889</td>\n",
       "    </tr>\n",
       "    <tr>\n",
       "      <th>4</th>\n",
       "      <td>1</td>\n",
       "      <td>8</td>\n",
       "      <td>38</td>\n",
       "      <td>0.4</td>\n",
       "      <td>-73.973502</td>\n",
       "      <td>40.755479</td>\n",
       "      <td>40.758619</td>\n",
       "      <td>-73.979198</td>\n",
       "    </tr>\n",
       "  </tbody>\n",
       "</table>\n",
       "</div>"
      ],
      "text/plain": [
       "   pickup_day  pickup_hour  pickup_minute  trip_distance  pickup_longitude  \\\n",
       "0           1            8             59            2.5        -73.958848   \n",
       "1           1           14             59            0.9          0.000000   \n",
       "2           1            8             45            0.6        -73.992233   \n",
       "3           1            8              0            0.5        -73.973726   \n",
       "4           1            8             38            0.4        -73.973502   \n",
       "\n",
       "   pickup_latitude  dropoff_latitude  dropoff_longitude  \n",
       "0        40.763585         40.752034         -73.986284  \n",
       "1         0.000000          0.000000           0.000000  \n",
       "2        40.729136         40.735186         -73.991387  \n",
       "3        40.750095         40.755623         -73.976889  \n",
       "4        40.755479         40.758619         -73.979198  "
      ]
     },
     "execution_count": 7,
     "metadata": {},
     "output_type": "execute_result"
    }
   ],
   "source": [
    "X.head()"
   ]
  },
  {
   "cell_type": "code",
   "execution_count": 8,
   "metadata": {},
   "outputs": [],
   "source": [
    "import seaborn as sns\n",
    "from sklearn.neighbors import KNeighborsClassifier\n",
    "from sklearn.metrics import accuracy_score\n",
    "from sklearn.model_selection import train_test_split\n",
    "import numpy as np\n",
    "from sklearn import datasets, linear_model\n",
    "from sklearn.metrics import mean_squared_error, r2_score"
   ]
  },
  {
   "cell_type": "code",
   "execution_count": 9,
   "metadata": {
    "scrolled": true
   },
   "outputs": [],
   "source": [
    "X_train, X_test, y_train, y_test = train_test_split(X, y, test_size =0.3, random_state=5)"
   ]
  },
  {
   "cell_type": "markdown",
   "metadata": {},
   "source": [
    "### KNeighborsRegressor"
   ]
  },
  {
   "cell_type": "code",
   "execution_count": 59,
   "metadata": {},
   "outputs": [
    {
     "data": {
      "text/plain": [
       "KNeighborsRegressor(algorithm='auto', leaf_size=30, metric='minkowski',\n",
       "          metric_params=None, n_jobs=1, n_neighbors=9, p=2,\n",
       "          weights='uniform')"
      ]
     },
     "execution_count": 59,
     "metadata": {},
     "output_type": "execute_result"
    }
   ],
   "source": [
    "from sklearn.neighbors import KNeighborsRegressor\n",
    "reg = KNeighborsRegressor(n_neighbors=9)\n",
    "reg.fit(X_train, y_train) "
   ]
  },
  {
   "cell_type": "code",
   "execution_count": 60,
   "metadata": {},
   "outputs": [
    {
     "data": {
      "text/plain": [
       "0.6103864775050101"
      ]
     },
     "execution_count": 60,
     "metadata": {},
     "output_type": "execute_result"
    }
   ],
   "source": [
    "reg.score(X_test, y_test)"
   ]
  },
  {
   "cell_type": "code",
   "execution_count": 40,
   "metadata": {},
   "outputs": [
    {
     "data": {
      "text/plain": [
       "GridSearchCV(cv=3, error_score='raise',\n",
       "       estimator=KNeighborsRegressor(algorithm='auto', leaf_size=30, metric='minkowski',\n",
       "          metric_params=None, n_jobs=1, n_neighbors=5, p=2,\n",
       "          weights='uniform'),\n",
       "       fit_params={}, iid=True, n_jobs=1,\n",
       "       param_grid={'n_neighbors': array([   3,  103,  203,  303,  403,  503,  603,  703,  803,  903, 1003])},\n",
       "       pre_dispatch='2*n_jobs', refit=True, scoring='r2', verbose=0)"
      ]
     },
     "execution_count": 40,
     "metadata": {},
     "output_type": "execute_result"
    }
   ],
   "source": [
    "from sklearn.grid_search import GridSearchCV\n",
    "param_grid = {'n_neighbors': np.arange(3, 1004, 100)}\n",
    "reg_cv = GridSearchCV(reg, param_grid, cv=3, scoring='r2')\n",
    "reg_cv.fit(X, y)"
   ]
  },
  {
   "cell_type": "code",
   "execution_count": 41,
   "metadata": {},
   "outputs": [
    {
     "data": {
      "text/plain": [
       "{'n_neighbors': 103}"
      ]
     },
     "execution_count": 41,
     "metadata": {},
     "output_type": "execute_result"
    }
   ],
   "source": [
    "reg_cv.best_params_"
   ]
  },
  {
   "cell_type": "code",
   "execution_count": 42,
   "metadata": {},
   "outputs": [
    {
     "data": {
      "text/plain": [
       "0.5205061549554554"
      ]
     },
     "execution_count": 42,
     "metadata": {},
     "output_type": "execute_result"
    }
   ],
   "source": [
    "reg_cv.best_score_"
   ]
  },
  {
   "cell_type": "code",
   "execution_count": 34,
   "metadata": {},
   "outputs": [
    {
     "data": {
      "text/plain": [
       "GridSearchCV(cv=3, error_score='raise',\n",
       "       estimator=KNeighborsRegressor(algorithm='auto', leaf_size=30, metric='minkowski',\n",
       "          metric_params=None, n_jobs=1, n_neighbors=5, p=2,\n",
       "          weights='uniform'),\n",
       "       fit_params={}, iid=True, n_jobs=1,\n",
       "       param_grid={'n_neighbors': array([23, 28, 33, 38, 43])},\n",
       "       pre_dispatch='2*n_jobs', refit=True, scoring='r2', verbose=0)"
      ]
     },
     "execution_count": 34,
     "metadata": {},
     "output_type": "execute_result"
    }
   ],
   "source": [
    "from sklearn.grid_search import GridSearchCV\n",
    "param_grid = {'n_neighbors': np.arange(23, 44, 5)}\n",
    "reg_cv = GridSearchCV(reg, param_grid, cv=3, scoring='r2')\n",
    "reg_cv.fit(X, y)"
   ]
  },
  {
   "cell_type": "code",
   "execution_count": 35,
   "metadata": {},
   "outputs": [
    {
     "data": {
      "text/plain": [
       "{'n_neighbors': 38}"
      ]
     },
     "execution_count": 35,
     "metadata": {},
     "output_type": "execute_result"
    }
   ],
   "source": [
    "reg_cv.best_params_"
   ]
  },
  {
   "cell_type": "code",
   "execution_count": 36,
   "metadata": {},
   "outputs": [
    {
     "data": {
      "text/plain": [
       "0.5365016804594291"
      ]
     },
     "execution_count": 36,
     "metadata": {},
     "output_type": "execute_result"
    }
   ],
   "source": [
    "reg_cv.best_score_"
   ]
  },
  {
   "cell_type": "code",
   "execution_count": 37,
   "metadata": {},
   "outputs": [
    {
     "data": {
      "text/plain": [
       "GridSearchCV(cv=3, error_score='raise',\n",
       "       estimator=KNeighborsRegressor(algorithm='auto', leaf_size=30, metric='minkowski',\n",
       "          metric_params=None, n_jobs=1, n_neighbors=5, p=2,\n",
       "          weights='uniform'),\n",
       "       fit_params={}, iid=True, n_jobs=1,\n",
       "       param_grid={'n_neighbors': array([33, 34, 35, 36, 37, 38, 39, 40, 41, 42, 43])},\n",
       "       pre_dispatch='2*n_jobs', refit=True, scoring='r2', verbose=0)"
      ]
     },
     "execution_count": 37,
     "metadata": {},
     "output_type": "execute_result"
    }
   ],
   "source": [
    "from sklearn.grid_search import GridSearchCV\n",
    "param_grid = {'n_neighbors': np.arange(33, 44)}\n",
    "reg_cv = GridSearchCV(reg, param_grid, cv=3, scoring='r2')\n",
    "reg_cv.fit(X, y)"
   ]
  }
 ],
 "metadata": {
  "kernelspec": {
   "display_name": "Python 3",
   "language": "python",
   "name": "python3"
  },
  "language_info": {
   "codemirror_mode": {
    "name": "ipython",
    "version": 3
   },
   "file_extension": ".py",
   "mimetype": "text/x-python",
   "name": "python",
   "nbconvert_exporter": "python",
   "pygments_lexer": "ipython3",
   "version": "3.6.5"
  }
 },
 "nbformat": 4,
 "nbformat_minor": 2
}
